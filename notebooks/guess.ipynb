{
 "cells": [
  {
   "cell_type": "markdown",
   "metadata": {},
   "source": [
    "# Nenana Ice Classic – Spring 2022"
   ]
  },
  {
   "cell_type": "code",
   "execution_count": 7,
   "metadata": {},
   "outputs": [],
   "source": [
    "import pandas as pd\n",
    "import numpy as np\n",
    "import matplotlib.pyplot as plt"
   ]
  },
  {
   "cell_type": "markdown",
   "metadata": {},
   "source": [
    "## Initial Setup"
   ]
  },
  {
   "cell_type": "code",
   "execution_count": 8,
   "metadata": {},
   "outputs": [
    {
     "data": {
      "text/html": [
       "<div>\n",
       "<style scoped>\n",
       "    .dataframe tbody tr th:only-of-type {\n",
       "        vertical-align: middle;\n",
       "    }\n",
       "\n",
       "    .dataframe tbody tr th {\n",
       "        vertical-align: top;\n",
       "    }\n",
       "\n",
       "    .dataframe thead th {\n",
       "        text-align: right;\n",
       "    }\n",
       "</style>\n",
       "<table border=\"1\" class=\"dataframe\">\n",
       "  <thead>\n",
       "    <tr style=\"text-align: right;\">\n",
       "      <th></th>\n",
       "      <th>Year</th>\n",
       "      <th>Decimal Day of Year</th>\n",
       "      <th>Month</th>\n",
       "      <th>Day</th>\n",
       "      <th>Time</th>\n",
       "    </tr>\n",
       "  </thead>\n",
       "  <tbody>\n",
       "    <tr>\n",
       "      <th>0</th>\n",
       "      <td>1917</td>\n",
       "      <td>120.4792</td>\n",
       "      <td>April</td>\n",
       "      <td>30</td>\n",
       "      <td>11:30</td>\n",
       "    </tr>\n",
       "    <tr>\n",
       "      <th>1</th>\n",
       "      <td>1918</td>\n",
       "      <td>131.3979</td>\n",
       "      <td>May</td>\n",
       "      <td>11</td>\n",
       "      <td>09:33</td>\n",
       "    </tr>\n",
       "    <tr>\n",
       "      <th>2</th>\n",
       "      <td>1919</td>\n",
       "      <td>123.6063</td>\n",
       "      <td>May</td>\n",
       "      <td>3</td>\n",
       "      <td>14:33</td>\n",
       "    </tr>\n",
       "    <tr>\n",
       "      <th>3</th>\n",
       "      <td>1920</td>\n",
       "      <td>132.4486</td>\n",
       "      <td>May</td>\n",
       "      <td>11</td>\n",
       "      <td>10:46</td>\n",
       "    </tr>\n",
       "    <tr>\n",
       "      <th>4</th>\n",
       "      <td>1921</td>\n",
       "      <td>131.2792</td>\n",
       "      <td>May</td>\n",
       "      <td>11</td>\n",
       "      <td>06:42</td>\n",
       "    </tr>\n",
       "    <tr>\n",
       "      <th>...</th>\n",
       "      <td>...</td>\n",
       "      <td>...</td>\n",
       "      <td>...</td>\n",
       "      <td>...</td>\n",
       "      <td>...</td>\n",
       "    </tr>\n",
       "    <tr>\n",
       "      <th>100</th>\n",
       "      <td>2017</td>\n",
       "      <td>121.5000</td>\n",
       "      <td>May</td>\n",
       "      <td>1</td>\n",
       "      <td>12:00</td>\n",
       "    </tr>\n",
       "    <tr>\n",
       "      <th>101</th>\n",
       "      <td>2018</td>\n",
       "      <td>121.5542</td>\n",
       "      <td>May</td>\n",
       "      <td>1</td>\n",
       "      <td>13:18</td>\n",
       "    </tr>\n",
       "    <tr>\n",
       "      <th>102</th>\n",
       "      <td>2019</td>\n",
       "      <td>104.0146</td>\n",
       "      <td>April</td>\n",
       "      <td>14</td>\n",
       "      <td>00:21</td>\n",
       "    </tr>\n",
       "    <tr>\n",
       "      <th>103</th>\n",
       "      <td>2020</td>\n",
       "      <td>118.5389</td>\n",
       "      <td>April</td>\n",
       "      <td>27</td>\n",
       "      <td>12:56</td>\n",
       "    </tr>\n",
       "    <tr>\n",
       "      <th>104</th>\n",
       "      <td>2021</td>\n",
       "      <td>120.5347</td>\n",
       "      <td>April</td>\n",
       "      <td>30</td>\n",
       "      <td>12:50</td>\n",
       "    </tr>\n",
       "  </tbody>\n",
       "</table>\n",
       "<p>105 rows × 5 columns</p>\n",
       "</div>"
      ],
      "text/plain": [
       "     Year  Decimal Day of Year  Month  Day   Time\n",
       "0    1917             120.4792  April   30  11:30\n",
       "1    1918             131.3979    May   11  09:33\n",
       "2    1919             123.6063    May    3  14:33\n",
       "3    1920             132.4486    May   11  10:46\n",
       "4    1921             131.2792    May   11  06:42\n",
       "..    ...                  ...    ...  ...    ...\n",
       "100  2017             121.5000    May    1  12:00\n",
       "101  2018             121.5542    May    1  13:18\n",
       "102  2019             104.0146  April   14  00:21\n",
       "103  2020             118.5389  April   27  12:56\n",
       "104  2021             120.5347  April   30  12:50\n",
       "\n",
       "[105 rows x 5 columns]"
      ]
     },
     "execution_count": 8,
     "metadata": {},
     "output_type": "execute_result"
    }
   ],
   "source": [
    "# Read the data file and return a pandas dataframe.\n",
    "\n",
    "def date_processing():\n",
    "    \"\"\"Process the existing date data.\"\"\"\n",
    "    header = \"Year,Decimal Day of Year,Month,Day,Time\"\n",
    "    header = header.split(\",\")\n",
    "    return header\n",
    "\n",
    "def read_data(filename):\n",
    "    \"\"\"Read the data file and return a pandas dataframe.\"\"\"\n",
    "    # df = pd.read_csv(filename, header=None, names=date_processing())\n",
    "    df = pd.read_csv(filename)\n",
    "    return df\n",
    "\n",
    "read_data(\"../data/NenanaIceClassic_1917-2021.csv\")"
   ]
  },
  {
   "cell_type": "markdown",
   "metadata": {},
   "source": [
    "## Basic Information – Breakup Dates"
   ]
  },
  {
   "cell_type": "code",
   "execution_count": 9,
   "metadata": {},
   "outputs": [
    {
     "name": "stdout",
     "output_type": "stream",
     "text": [
      "Upper & lower bounds: 104.0146 - 141.4868\n",
      "Mean: 124.54446095238096\n",
      "Median: 124.4965\n",
      "Standard Deviation: 6.538392352063182\n",
      "Variance: 42.75057454951831\n",
      "Skewness: -0.05274638562361595\n"
     ]
    }
   ],
   "source": [
    "# Display the mean, median, mode, and standard deviation of the data.\n",
    "\n",
    "def decimal_day_conversion(ddoy):\n",
    "    \"\"\"FIXME: Convert the decimal day of the year to a date.\"\"\"\n",
    "    year = int(ddoy / 365)\n",
    "    month = int((ddoy % 365) / 30)\n",
    "    day = int((ddoy % 365) % 30)\n",
    "    return year, month, day\n",
    "\n",
    "def summary_statistics(df):\n",
    "    \"\"\"Find relevant information from decimal day of the year.\"\"\"\n",
    "    ddoy = df[\"Decimal Day of Year\"]\n",
    "    ddoy = df[\"Decimal Day of Year\"].astype(float)\n",
    "\n",
    "    min = ddoy.min()\n",
    "    max = ddoy.max()\n",
    "    mean = ddoy.mean()\n",
    "    median = ddoy.median()\n",
    "    # mode = ddoy.mode()\n",
    "    std = ddoy.std()\n",
    "    var = ddoy.var()\n",
    "    skew = ddoy.skew()\n",
    "    # q1 = ddoy.quantile(0.25)\n",
    "    # q3 = ddoy.quantile(0.75)\n",
    "    # iqr = q3 - q1\n",
    "\n",
    "    print(\"Upper & lower bounds: \" + str(min) + \" - \" + str(max))\n",
    "    print(\"Mean: \" + str(mean))\n",
    "    print(\"Median: \" + str(median))\n",
    "    # print(\"Mode: \" + str(mode))\n",
    "    print(\"Standard Deviation: \" + str(std))\n",
    "    print(\"Variance: \" + str(var))\n",
    "    print(\"Skewness: \" + str(skew))\n",
    "    # print(\"Quartile 1: \" + str(q1))\n",
    "    # print(\"Quartile 3: \" + str(q3))\n",
    "    # print(\"Interquartile Range: \" + str(iqr))\n",
    "\n",
    "summary_statistics(read_data(\"../data/NenanaIceClassic_1917-2021.csv\"))"
   ]
  },
  {
   "cell_type": "code",
   "execution_count": 10,
   "metadata": {},
   "outputs": [
    {
     "data": {
      "image/png": "[encoded data removed]",
      "text/plain": [
       "<Figure size 432x288 with 1 Axes>"
      ]
     },
     "metadata": {
      "needs_background": "light"
     },
     "output_type": "display_data"
    }
   ],
   "source": [
    "# TODO: Add a function to plot the data.\n",
    "\n",
    "def plot_data(df):\n",
    "    \"\"\"Plot the data.\"\"\"\n",
    "    df[\"Decimal Day of Year\"].plot()\n",
    "    plt.show()\n",
    "\n",
    "plot_data(read_data(\"../data/NenanaIceClassic_1917-2021.csv\"))"
   ]
  },
  {
   "cell_type": "code",
   "execution_count": 11,
   "metadata": {},
   "outputs": [],
   "source": [
    "# FIXME: Find the average temperature for each year."
   ]
  },
  {
   "cell_type": "markdown",
   "metadata": {},
   "source": [
    "## Time Series Analysis (Pandas)\n",
    "- https://pandas.pydata.org/pandas-docs/stable/user_guide/timeseries.html#time-series-date-functionality"
   ]
  },
  {
   "cell_type": "code",
   "execution_count": 12,
   "metadata": {},
   "outputs": [
    {
     "name": "stdout",
     "output_type": "stream",
     "text": [
      "Hello, dataset collection + analysis!\n"
     ]
    }
   ],
   "source": [
    "print(\"Hello, dataset collection + analysis!\")"
   ]
  }
 ],
 "metadata": {
  "interpreter": {
   "hash": "aee8b7b246df8f9039afb4144a1f6fd8d2ca17a180786b69acc140d282b71a49"
  },
  "kernelspec": {
   "display_name": "Python 3 (ipykernel)",
   "language": "python",
   "name": "python3"
  },
  "language_info": {
   "codemirror_mode": {
    "name": "ipython",
    "version": 3
   },
   "file_extension": ".py",
   "mimetype": "text/x-python",
   "name": "python",
   "nbconvert_exporter": "python",
   "pygments_lexer": "ipython3",
   "version": "3.10.2"
  }
 },
 "nbformat": 4,
 "nbformat_minor": 2
}
